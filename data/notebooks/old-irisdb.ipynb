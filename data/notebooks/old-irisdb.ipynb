{
 "cells": [
  {
   "cell_type": "markdown",
   "id": "40de51f9-29df-4ed6-be93-2a2bc5ce2982",
   "metadata": {},
   "source": [
    "# Connect or Collect\n",
    "\n",
    "Este Notebook muestra el pardiagma \"Connect or Collect\" que permite incorporar datos externos en los analysis de IRIS sin necidad de copiar los datos, mediante la funcionalidade de <b>Foreign Tables</b>"
   ]
  },
  {
   "cell_type": "markdown",
   "id": "afde01a0-4958-4ede-a053-873aa946e2f4",
   "metadata": {},
   "source": [
    "## Conectar a IRIS"
   ]
  },
  {
   "cell_type": "code",
   "execution_count": 2,
   "id": "a4a77412-db20-4c65-8de6-5dc0d48ee43a",
   "metadata": {},
   "outputs": [],
   "source": [
    "#Some imports\n",
    "import iris,time,os\n",
    "import pandas as pd\n",
    "import numpy as np\n",
    "import matplotlib.pyplot as plt\n",
    "import seaborn as sbn\n"
   ]
  },
  {
   "cell_type": "code",
   "execution_count": 7,
   "id": "f34bbf0a-c2f6-4388-9fae-9fa374c928e9",
   "metadata": {},
   "outputs": [],
   "source": [
    "#Connect to IRIS\n",
    "connection = iris.connect(\"iris:1972/IRISAPP\",\"SuperUser\",\"SYS\")\n"
   ]
  },
  {
   "cell_type": "code",
   "execution_count": 15,
   "id": "aea74ede-c8ab-47e7-839e-4518811d3ad9",
   "metadata": {},
   "outputs": [],
   "source": [
    "#Define Execute function\n",
    "def exec_sql(sql):\n",
    "    c1=connection.cursor()\n",
    "    c1.execute(sql)\n",
    "\n",
    "#Define Query execution function\n",
    "def just_sql(sql):\n",
    "    c1 = connection.cursor()\n",
    "    c1.execute(sql)\n",
    "    result = c1.fetchall()[0]\n",
    "    c1.close()\n",
    "    return result  "
   ]
  },
  {
   "cell_type": "markdown",
   "id": "784072dc-13e2-448f-808e-1555a64ca113",
   "metadata": {},
   "source": [
    "## Referenciar Ficheros Externos"
   ]
  },
  {
   "cell_type": "code",
   "execution_count": 16,
   "id": "e3e3a365-93f4-4285-b029-d62a6feb814b",
   "metadata": {},
   "outputs": [
    {
     "ename": "InterfaceError",
     "evalue": "[SQLCODE: <-201>:<Table or view name not unique>]\r\n[Location: <ServerLoop>]\r\n[%msg: <SQL object with name 'crm' already exists>]",
     "output_type": "error",
     "traceback": [
      "\u001b[0;31m---------------------------------------------------------------------------\u001b[0m",
      "\u001b[0;31mInterfaceError\u001b[0m                            Traceback (most recent call last)",
      "Cell \u001b[0;32mIn[16], line 2\u001b[0m\n\u001b[1;32m      1\u001b[0m \u001b[38;5;66;03m#Create Foreign Server\u001b[39;00m\n\u001b[0;32m----> 2\u001b[0m \u001b[43mexec_sql\u001b[49m\u001b[43m(\u001b[49m\u001b[38;5;124;43m\"\u001b[39;49m\u001b[38;5;124;43mCREATE FOREIGN SERVER ext.crm FOREIGN DATA WRAPPER CSV HOST \u001b[39;49m\u001b[38;5;124;43m'\u001b[39;49m\u001b[38;5;124;43m/data/crm/\u001b[39;49m\u001b[38;5;124;43m'\u001b[39;49m\u001b[38;5;124;43m\"\u001b[39;49m\u001b[43m)\u001b[49m\n",
      "Cell \u001b[0;32mIn[15], line 4\u001b[0m, in \u001b[0;36mexec_sql\u001b[0;34m(sql)\u001b[0m\n\u001b[1;32m      2\u001b[0m \u001b[38;5;28;01mdef\u001b[39;00m \u001b[38;5;21mexec_sql\u001b[39m(sql):\n\u001b[1;32m      3\u001b[0m     c1\u001b[38;5;241m=\u001b[39mconnection\u001b[38;5;241m.\u001b[39mcursor()\n\u001b[0;32m----> 4\u001b[0m     \u001b[43mc1\u001b[49m\u001b[38;5;241;43m.\u001b[39;49m\u001b[43mexecute\u001b[49m\u001b[43m(\u001b[49m\u001b[43msql\u001b[49m\u001b[43m)\u001b[49m\n",
      "File \u001b[0;32m/opt/conda/lib/python3.11/site-packages/iris/dbapi/_DBAPI.py:1628\u001b[0m, in \u001b[0;36mCursor.execute\u001b[0;34m(self, operation, *params)\u001b[0m\n\u001b[1;32m   1625\u001b[0m \u001b[38;5;28mself\u001b[39m\u001b[38;5;241m.\u001b[39m_preparse()\n\u001b[1;32m   1627\u001b[0m \u001b[38;5;28mself\u001b[39m\u001b[38;5;241m.\u001b[39m_prepare()\n\u001b[0;32m-> 1628\u001b[0m \u001b[38;5;28;43mself\u001b[39;49m\u001b[38;5;241;43m.\u001b[39;49m\u001b[43m_execute\u001b[49m\u001b[43m(\u001b[49m\u001b[43m)\u001b[49m\n\u001b[1;32m   1629\u001b[0m \u001b[38;5;28;01mreturn\u001b[39;00m \u001b[38;5;28mself\u001b[39m\u001b[38;5;241m.\u001b[39m_rowcount\n",
      "File \u001b[0;32m/opt/conda/lib/python3.11/site-packages/iris/dbapi/_DBAPI.py:619\u001b[0m, in \u001b[0;36mCursor._execute\u001b[0;34m(self)\u001b[0m\n\u001b[1;32m    617\u001b[0m     \u001b[38;5;28;01mraise\u001b[39;00m \u001b[38;5;167;01mNotImplementedError\u001b[39;00m(\u001b[38;5;124m\"\u001b[39m\u001b[38;5;124mComing soon to an IRIS DB API near you!\u001b[39m\u001b[38;5;124m\"\u001b[39m)\n\u001b[1;32m    618\u001b[0m \u001b[38;5;28;01melse\u001b[39;00m:\n\u001b[0;32m--> 619\u001b[0m     \u001b[38;5;28;01mreturn\u001b[39;00m \u001b[43mexec_func\u001b[49m\u001b[43m(\u001b[49m\u001b[43m)\u001b[49m\n",
      "File \u001b[0;32m/opt/conda/lib/python3.11/site-packages/iris/dbapi/_DBAPI.py:821\u001b[0m, in \u001b[0;36mCursor._execute_update\u001b[0;34m(self)\u001b[0m\n\u001b[1;32m    818\u001b[0m         \u001b[38;5;28mself\u001b[39m\u001b[38;5;241m.\u001b[39m_stored_procedure_update()\n\u001b[1;32m    819\u001b[0m         \u001b[38;5;28;01mreturn\u001b[39;00m\n\u001b[0;32m--> 821\u001b[0m     \u001b[38;5;28;43mself\u001b[39;49m\u001b[38;5;241;43m.\u001b[39;49m\u001b[43m_prepared_update_execute\u001b[49m\u001b[43m(\u001b[49m\u001b[43m)\u001b[49m\n\u001b[1;32m    823\u001b[0m \u001b[38;5;28;01mif\u001b[39;00m \u001b[38;5;28mself\u001b[39m\u001b[38;5;241m.\u001b[39m_parameter_sets \u001b[38;5;241m==\u001b[39m \u001b[38;5;241m0\u001b[39m \u001b[38;5;129;01mand\u001b[39;00m \u001b[38;5;129;01mnot\u001b[39;00m \u001b[38;5;28mself\u001b[39m\u001b[38;5;241m.\u001b[39m_multiple_result_sets:\n\u001b[1;32m    824\u001b[0m     \u001b[38;5;28mself\u001b[39m\u001b[38;5;241m.\u001b[39m_rowcount \u001b[38;5;241m=\u001b[39m \u001b[38;5;28mself\u001b[39m\u001b[38;5;241m.\u001b[39m_in_message\u001b[38;5;241m.\u001b[39mwire\u001b[38;5;241m.\u001b[39m_get()\n",
      "File \u001b[0;32m/opt/conda/lib/python3.11/site-packages/iris/dbapi/_DBAPI.py:944\u001b[0m, in \u001b[0;36mCursor._prepared_update_execute\u001b[0;34m(self)\u001b[0m\n\u001b[1;32m    942\u001b[0m     \u001b[38;5;28;01mreturn\u001b[39;00m\n\u001b[1;32m    943\u001b[0m \u001b[38;5;28;01mif\u001b[39;00m sqlcode \u001b[38;5;129;01mnot\u001b[39;00m \u001b[38;5;129;01min\u001b[39;00m [\u001b[38;5;241m0\u001b[39m, \u001b[38;5;241m100\u001b[39m]:\n\u001b[0;32m--> 944\u001b[0m     \u001b[38;5;28;01mraise\u001b[39;00m InterfaceError(\u001b[38;5;28mself\u001b[39m\u001b[38;5;241m.\u001b[39m_get_error_info(sqlcode))\n",
      "\u001b[0;31mInterfaceError\u001b[0m: [SQLCODE: <-201>:<Table or view name not unique>]\r\n[Location: <ServerLoop>]\r\n[%msg: <SQL object with name 'crm' already exists>]"
     ]
    }
   ],
   "source": [
    "#Create Foreign Server\n",
    "exec_sql(\"CREATE FOREIGN SERVER ext.crm FOREIGN DATA WRAPPER CSV HOST '/data/crm/'\")"
   ]
  },
  {
   "cell_type": "code",
   "execution_count": null,
   "id": "d56c6960-5546-4cc2-bd23-8e0acad536a8",
   "metadata": {},
   "outputs": [],
   "source": []
  }
 ],
 "metadata": {
  "kernelspec": {
   "display_name": "Python 3 (ipykernel)",
   "language": "python",
   "name": "python3"
  },
  "language_info": {
   "codemirror_mode": {
    "name": "ipython",
    "version": 3
   },
   "file_extension": ".py",
   "mimetype": "text/x-python",
   "name": "python",
   "nbconvert_exporter": "python",
   "pygments_lexer": "ipython3",
   "version": "3.11.6"
  }
 },
 "nbformat": 4,
 "nbformat_minor": 5
}
