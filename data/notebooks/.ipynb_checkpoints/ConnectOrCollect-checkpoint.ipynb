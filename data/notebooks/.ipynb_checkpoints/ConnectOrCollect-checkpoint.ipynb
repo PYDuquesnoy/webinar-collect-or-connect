{
 "cells": [
  {
   "cell_type": "markdown",
   "id": "40de51f9-29df-4ed6-be93-2a2bc5ce2982",
   "metadata": {},
   "source": [
    "# Connect or Collect\n",
    "\n",
    "Este Notebook muestra el pardiagma \"Connect or Collect\" que permite incorporar datos externos en los analysis de IRIS sin necidad de copiar los datos, mediante la funcionalidad de <b>Foreign Tables</b>\n",
    "\n",
    "- el CRM exporta la información de clientes en formato CSV. Accedimos a ello sin copia con Foreign Table\n",
    "- La tienda online mantiene la información de pedidos en su BBDD. Accedimos a ello sin copia con Foreign Table\n",
    "- La nueva empresa adquerida exporta CSV. Los importamos en IRIS con el Data Mapper de la capa de Interoperabilidad\n"
   ]
  },
  {
   "cell_type": "markdown",
   "id": "0ecaf6cc-9405-4061-bba2-9e69c39e9ec0",
   "metadata": {},
   "source": [
    "<img src=\"./img/escenario.png\" style=\"height:300px\">"
   ]
  },
  {
   "cell_type": "markdown",
   "id": "34afbeda-e429-47d5-91e1-1aa1fb442959",
   "metadata": {},
   "source": [
    "## Setup"
   ]
  },
  {
   "cell_type": "code",
   "execution_count": 18,
   "id": "a4a77412-db20-4c65-8de6-5dc0d48ee43a",
   "metadata": {},
   "outputs": [],
   "source": [
    "#Some imports\n",
    "import iris,time,os\n",
    "import pandas as pd\n",
    "import numpy as np\n",
    "import matplotlib.pyplot as plt\n",
    "import seaborn as sbn\n",
    "from IPython.display import display\n",
    "import warnings\n",
    "warnings.filterwarnings('ignore')"
   ]
  },
  {
   "cell_type": "code",
   "execution_count": 2,
   "id": "c78e3b1d-8ec5-4e8e-bb62-147f1458ae3e",
   "metadata": {},
   "outputs": [],
   "source": [
    "# Set an environment variable\n",
    "# os.environ['CLASSPATH'] = '/notebooks/intersystems-jdbc-3.9.0.jar'\n",
    "# os.environ['JAVA_HOME']= 'usr/lib/jvm/java-11-openjdk'"
   ]
  },
  {
   "cell_type": "markdown",
   "id": "afde01a0-4958-4ede-a053-873aa946e2f4",
   "metadata": {},
   "source": [
    "## Conectar a IRIS"
   ]
  },
  {
   "cell_type": "code",
   "execution_count": 3,
   "id": "b1cb82f4",
   "metadata": {},
   "outputs": [],
   "source": [
    "# Use JDBC and JayDeBeAPI to connect and run SQL (IRIS DB-API only allows SQL DML)\n",
    "import jaydebeapi\n",
    "url = \"jdbc:IRIS://iris:1972/IRISAPP\"\n",
    "driver = \"com.intersystems.jdbc.IRISDriver\"\n",
    "user = \"SuperUser\"\n",
    "password = \"SYS\"\n",
    "jarfile = \"/notebooks/intersystems-jdbc-3.9.0.jar\""
   ]
  },
  {
   "cell_type": "code",
   "execution_count": 4,
   "id": "f3381a38",
   "metadata": {},
   "outputs": [],
   "source": [
    "connection = jaydebeapi.connect(driver, url, [user, password], jarfile)\n"
   ]
  },
  {
   "cell_type": "code",
   "execution_count": 5,
   "id": "aea74ede-c8ab-47e7-839e-4518811d3ad9",
   "metadata": {},
   "outputs": [],
   "source": [
    "# Define Execute function\n",
    "def exec_sql(sql):\n",
    "    c1=connection.cursor()\n",
    "    c1.execute(sql)\n",
    "\n",
    "#Define Query execution function\n",
    "def just_sql(sql):\n",
    "    c1 = connection.cursor()\n",
    "    c1.execute(sql)\n",
    "    result = c1.fetchall()[0]\n",
    "    c1.close()\n",
    "    return result  "
   ]
  },
  {
   "cell_type": "markdown",
   "id": "784072dc-13e2-448f-808e-1555a64ca113",
   "metadata": {},
   "source": [
    "## Referenciar Ficheros Externos"
   ]
  },
  {
   "cell_type": "code",
   "execution_count": 9,
   "id": "0c37e813-a14a-405d-a5b6-487b9b71ff7a",
   "metadata": {},
   "outputs": [],
   "source": [
    "#Drop Foreign Server if already Exist\n",
    "#exec_sql(\"DROP FOREIGN SERVER ext.crm CASCADE\")"
   ]
  },
  {
   "cell_type": "code",
   "execution_count": 8,
   "id": "e3e3a365-93f4-4285-b029-d62a6feb814b",
   "metadata": {},
   "outputs": [],
   "source": [
    "# Create Foreign Server\n",
    "exec_sql(\"CREATE FOREIGN SERVER ext.crm FOREIGN DATA WRAPPER CSV HOST '/data/crm/'\")"
   ]
  },
  {
   "cell_type": "code",
   "execution_count": 13,
   "id": "d56c6960-5546-4cc2-bd23-8e0acad536a8",
   "metadata": {},
   "outputs": [],
   "source": [
    "# Create the Foreign Table\n",
    "exec_sql('''CREATE FOREIGN TABLE crm.clientes( \n",
    "    IDCliente VARCHAR(30),\n",
    "    Nombre VARCHAR(50),\n",
    "    Apellidos  VARCHAR(50),\n",
    "    Genero VARCHAR(1),\n",
    "    FechaNacimiento DATE,\n",
    "    DireccionPais VARCHAR(20),\n",
    "    DireccionCiudad VARCHAR(20),\n",
    "    DireccionRegion VARCHAR(20),\n",
    "    DireccionCodigoPostal VARCHAR(10)) SERVER ext.crm FILE 'clientes.csv' \n",
    "    USING '{\"from\":{\"file\":{\"header\":true}}}' ''')"
   ]
  },
  {
   "cell_type": "code",
   "execution_count": 19,
   "id": "a257c3ee-a03b-4890-bafc-b837f98d2e6b",
   "metadata": {},
   "outputs": [
    {
     "data": {
      "text/html": [
       "<div>\n",
       "<style scoped>\n",
       "    .dataframe tbody tr th:only-of-type {\n",
       "        vertical-align: middle;\n",
       "    }\n",
       "\n",
       "    .dataframe tbody tr th {\n",
       "        vertical-align: top;\n",
       "    }\n",
       "\n",
       "    .dataframe thead th {\n",
       "        text-align: right;\n",
       "    }\n",
       "</style>\n",
       "<table border=\"1\" class=\"dataframe\">\n",
       "  <thead>\n",
       "    <tr style=\"text-align: right;\">\n",
       "      <th></th>\n",
       "      <th>IDCliente</th>\n",
       "      <th>Nombre</th>\n",
       "      <th>Apellidos</th>\n",
       "      <th>Genero</th>\n",
       "      <th>FechaNacimiento</th>\n",
       "      <th>DireccionPais</th>\n",
       "      <th>DireccionCiudad</th>\n",
       "      <th>DireccionRegion</th>\n",
       "      <th>DireccionCodigoPostal</th>\n",
       "    </tr>\n",
       "  </thead>\n",
       "  <tbody>\n",
       "    <tr>\n",
       "      <th>0</th>\n",
       "      <td>17850</td>\n",
       "      <td>José</td>\n",
       "      <td>Fernández Ferrer</td>\n",
       "      <td>M</td>\n",
       "      <td>2001-11-06</td>\n",
       "      <td>United Kingdom</td>\n",
       "      <td>None</td>\n",
       "      <td>None</td>\n",
       "      <td>None</td>\n",
       "    </tr>\n",
       "    <tr>\n",
       "      <th>1</th>\n",
       "      <td>13047</td>\n",
       "      <td>Antonio</td>\n",
       "      <td>Jordana Martinez</td>\n",
       "      <td>M</td>\n",
       "      <td>1970-07-07</td>\n",
       "      <td>USA</td>\n",
       "      <td>None</td>\n",
       "      <td>None</td>\n",
       "      <td>None</td>\n",
       "    </tr>\n",
       "    <tr>\n",
       "      <th>2</th>\n",
       "      <td>12583</td>\n",
       "      <td>Ana</td>\n",
       "      <td>López Rodriguez</td>\n",
       "      <td>F</td>\n",
       "      <td>1980-07-09</td>\n",
       "      <td>United Kingdom</td>\n",
       "      <td>None</td>\n",
       "      <td>None</td>\n",
       "      <td>None</td>\n",
       "    </tr>\n",
       "    <tr>\n",
       "      <th>3</th>\n",
       "      <td>13748</td>\n",
       "      <td>Celestina</td>\n",
       "      <td>Martinez López</td>\n",
       "      <td>F</td>\n",
       "      <td>2004-03-04</td>\n",
       "      <td>United Kingdom</td>\n",
       "      <td>None</td>\n",
       "      <td>None</td>\n",
       "      <td>None</td>\n",
       "    </tr>\n",
       "    <tr>\n",
       "      <th>4</th>\n",
       "      <td>15100</td>\n",
       "      <td>Carmen</td>\n",
       "      <td>González Martinez</td>\n",
       "      <td>F</td>\n",
       "      <td>1979-11-01</td>\n",
       "      <td>España</td>\n",
       "      <td>Sevilla</td>\n",
       "      <td>None</td>\n",
       "      <td>41001</td>\n",
       "    </tr>\n",
       "    <tr>\n",
       "      <th>5</th>\n",
       "      <td>17908</td>\n",
       "      <td>Javier</td>\n",
       "      <td>González Rodriguez</td>\n",
       "      <td>M</td>\n",
       "      <td>2004-10-03</td>\n",
       "      <td>USA</td>\n",
       "      <td>None</td>\n",
       "      <td>None</td>\n",
       "      <td>None</td>\n",
       "    </tr>\n",
       "    <tr>\n",
       "      <th>6</th>\n",
       "      <td>15291</td>\n",
       "      <td>Isabel</td>\n",
       "      <td>Jordana González</td>\n",
       "      <td>F</td>\n",
       "      <td>1976-02-27</td>\n",
       "      <td>USA</td>\n",
       "      <td>None</td>\n",
       "      <td>None</td>\n",
       "      <td>None</td>\n",
       "    </tr>\n",
       "    <tr>\n",
       "      <th>7</th>\n",
       "      <td>14688</td>\n",
       "      <td>Daniel</td>\n",
       "      <td>Fernández Jordana</td>\n",
       "      <td>M</td>\n",
       "      <td>2004-08-08</td>\n",
       "      <td>Francia</td>\n",
       "      <td>None</td>\n",
       "      <td>None</td>\n",
       "      <td>None</td>\n",
       "    </tr>\n",
       "    <tr>\n",
       "      <th>8</th>\n",
       "      <td>17809</td>\n",
       "      <td>Daniel</td>\n",
       "      <td>López Pérez</td>\n",
       "      <td>M</td>\n",
       "      <td>1975-10-28</td>\n",
       "      <td>España</td>\n",
       "      <td>Sevilla</td>\n",
       "      <td>None</td>\n",
       "      <td>41001</td>\n",
       "    </tr>\n",
       "    <tr>\n",
       "      <th>9</th>\n",
       "      <td>15311</td>\n",
       "      <td>Pilar</td>\n",
       "      <td>Fernández García</td>\n",
       "      <td>F</td>\n",
       "      <td>1996-09-13</td>\n",
       "      <td>United Kingdom</td>\n",
       "      <td>None</td>\n",
       "      <td>None</td>\n",
       "      <td>None</td>\n",
       "    </tr>\n",
       "  </tbody>\n",
       "</table>\n",
       "</div>"
      ],
      "text/plain": [
       "  IDCliente     Nombre           Apellidos Genero FechaNacimiento  \\\n",
       "0     17850       José    Fernández Ferrer      M      2001-11-06   \n",
       "1     13047    Antonio    Jordana Martinez      M      1970-07-07   \n",
       "2     12583        Ana     López Rodriguez      F      1980-07-09   \n",
       "3     13748  Celestina      Martinez López      F      2004-03-04   \n",
       "4     15100     Carmen   González Martinez      F      1979-11-01   \n",
       "5     17908     Javier  González Rodriguez      M      2004-10-03   \n",
       "6     15291     Isabel    Jordana González      F      1976-02-27   \n",
       "7     14688     Daniel   Fernández Jordana      M      2004-08-08   \n",
       "8     17809     Daniel         López Pérez      M      1975-10-28   \n",
       "9     15311      Pilar    Fernández García      F      1996-09-13   \n",
       "\n",
       "    DireccionPais DireccionCiudad DireccionRegion DireccionCodigoPostal  \n",
       "0  United Kingdom            None            None                  None  \n",
       "1             USA            None            None                  None  \n",
       "2  United Kingdom            None            None                  None  \n",
       "3  United Kingdom            None            None                  None  \n",
       "4          España         Sevilla            None                 41001  \n",
       "5             USA            None            None                  None  \n",
       "6             USA            None            None                  None  \n",
       "7         Francia            None            None                  None  \n",
       "8          España         Sevilla            None                 41001  \n",
       "9  United Kingdom            None            None                  None  "
      ]
     },
     "metadata": {},
     "output_type": "display_data"
    }
   ],
   "source": [
    "#Get and Display the Contents\n",
    "df=pd.read_sql(\"select top 10 * from crm.clientes\",connection)\n",
    "display(df)"
   ]
  },
  {
   "cell_type": "markdown",
   "id": "52d0aaaa-0876-49fc-a1f5-8b42e5680ac1",
   "metadata": {},
   "source": [
    "# Referenciar BBDD Externa"
   ]
  },
  {
   "cell_type": "code",
   "execution_count": null,
   "id": "c913ea87-9824-4f2f-8ee0-51aa30ee494f",
   "metadata": {},
   "outputs": [],
   "source": []
  }
 ],
 "metadata": {
  "kernelspec": {
   "display_name": "Python 3 (ipykernel)",
   "language": "python",
   "name": "python3"
  },
  "language_info": {
   "codemirror_mode": {
    "name": "ipython",
    "version": 3
   },
   "file_extension": ".py",
   "mimetype": "text/x-python",
   "name": "python",
   "nbconvert_exporter": "python",
   "pygments_lexer": "ipython3",
   "version": "3.11.6"
  }
 },
 "nbformat": 4,
 "nbformat_minor": 5
}
