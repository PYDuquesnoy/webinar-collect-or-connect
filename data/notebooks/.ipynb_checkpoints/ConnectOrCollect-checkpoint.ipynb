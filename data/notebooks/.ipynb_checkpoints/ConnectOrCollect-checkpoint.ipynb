{
 "cells": [
  {
   "cell_type": "markdown",
   "id": "40de51f9-29df-4ed6-be93-2a2bc5ce2982",
   "metadata": {},
   "source": [
    "# Connect or Collect\n",
    "\n",
    "Este Notebook muestra el pardiagma \"Connect or Collect\" que permite incorporar datos externos en los analysis de IRIS sin necesidad de copiar los datos, mediante la funcionalidad de <b>Foreign Tables</b>\n",
    "\n",
    "- el CRM exporta la información de clientes en formato CSV. Accedimos a ello sin copia con Foreign Table\n",
    "- La tienda online mantiene la información de pedidos en su BBDD. Accedimos a ello sin copia con Foreign Table\n",
    "- La nueva empresa adquerida exporta CSV. Los importamos en IRIS con el Data Mapper de la capa de Interoperabilidad\n"
   ]
  },
  {
   "cell_type": "markdown",
   "id": "0ecaf6cc-9405-4061-bba2-9e69c39e9ec0",
   "metadata": {},
   "source": [
    "<img src=\"./img/scenario.png\" style=\"height:300px\">"
   ]
  },
  {
   "cell_type": "markdown",
   "id": "34afbeda-e429-47d5-91e1-1aa1fb442959",
   "metadata": {},
   "source": [
    "## Initialización"
   ]
  },
  {
   "cell_type": "code",
   "execution_count": null,
   "id": "a4a77412-db20-4c65-8de6-5dc0d48ee43a",
   "metadata": {},
   "outputs": [],
   "source": [
    "#Some imports\n",
    "import iris,time,os\n",
    "import pandas as pd\n",
    "import numpy as np\n",
    "import matplotlib.pyplot as plt\n",
    "import seaborn as sbn\n",
    "from IPython.display import display\n",
    "import warnings\n",
    "warnings.filterwarnings('ignore')"
   ]
  },
  {
   "cell_type": "code",
   "execution_count": null,
   "id": "c78e3b1d-8ec5-4e8e-bb62-147f1458ae3e",
   "metadata": {},
   "outputs": [],
   "source": [
    "# Set an environment variable\n",
    "# os.environ['CLASSPATH'] = '/notebooks/intersystems-jdbc-3.9.0.jar'\n",
    "# os.environ['JAVA_HOME']= 'usr/lib/jvm/java-11-openjdk'"
   ]
  },
  {
   "cell_type": "markdown",
   "id": "afde01a0-4958-4ede-a053-873aa946e2f4",
   "metadata": {},
   "source": [
    "## Conectar a IRIS"
   ]
  },
  {
   "cell_type": "code",
   "execution_count": null,
   "id": "b1cb82f4",
   "metadata": {},
   "outputs": [],
   "source": [
    "# Use JDBC and JayDeBeAPI to connect and run SQL (IRIS DB-API only allows SQL DML)\n",
    "import jaydebeapi\n",
    "url = \"jdbc:IRIS://iris:1972/IRISAPP\"\n",
    "driver = \"com.intersystems.jdbc.IRISDriver\"\n",
    "user = \"SuperUser\"\n",
    "password = \"SYS\"\n",
    "jarfile = \"/notebooks/intersystems-jdbc-3.9.0.jar\""
   ]
  },
  {
   "cell_type": "code",
   "execution_count": null,
   "id": "f3381a38",
   "metadata": {},
   "outputs": [],
   "source": [
    "connection = jaydebeapi.connect(driver, url, [user, password], jarfile)\n"
   ]
  },
  {
   "cell_type": "code",
   "execution_count": null,
   "id": "aea74ede-c8ab-47e7-839e-4518811d3ad9",
   "metadata": {},
   "outputs": [],
   "source": [
    "# Define Execute function\n",
    "def exec_sql(sql):\n",
    "    c1=connection.cursor()\n",
    "    c1.execute(sql)\n",
    "\n",
    "#Define Query execution function\n",
    "def just_sql(sql):\n",
    "    c1 = connection.cursor()\n",
    "    c1.execute(sql)\n",
    "    result = c1.fetchall()[0]\n",
    "    c1.close()\n",
    "    return result  "
   ]
  },
  {
   "cell_type": "markdown",
   "id": "1df6d9c8-eca4-49a2-8a2f-3b44b1a4dc25",
   "metadata": {},
   "source": [
    "# Paradigma CONNECT\n",
    "\n",
    "En el paradigma Connect accede a los datos in situ sin realizar ninguna copia, para casos donde no es conveniente importar los datos en IRIS."
   ]
  },
  {
   "cell_type": "markdown",
   "id": "784072dc-13e2-448f-808e-1555a64ca113",
   "metadata": {},
   "source": [
    "## Referenciar Ficheros Externos"
   ]
  },
  {
   "cell_type": "code",
   "execution_count": null,
   "id": "0c37e813-a14a-405d-a5b6-487b9b71ff7a",
   "metadata": {},
   "outputs": [],
   "source": [
    "#Drop Foreign Server if already Exist\n",
    "#exec_sql(\"DROP FOREIGN SERVER ext.crm CASCADE\")"
   ]
  },
  {
   "cell_type": "code",
   "execution_count": null,
   "id": "e3e3a365-93f4-4285-b029-d62a6feb814b",
   "metadata": {},
   "outputs": [],
   "source": [
    "# Create Foreign Server\n",
    "exec_sql(\"CREATE FOREIGN SERVER ext.crm FOREIGN DATA WRAPPER CSV HOST '/data/crm/'\")"
   ]
  },
  {
   "cell_type": "code",
   "execution_count": null,
   "id": "d56c6960-5546-4cc2-bd23-8e0acad536a8",
   "metadata": {},
   "outputs": [],
   "source": [
    "# Create the Foreign Table\n",
    "exec_sql('''CREATE FOREIGN TABLE crm.clientes( \n",
    "    IDCliente VARCHAR(30),\n",
    "    Nombre VARCHAR(50),\n",
    "    Apellidos  VARCHAR(50),\n",
    "    Genero VARCHAR(1),\n",
    "    FechaNacimiento DATE,\n",
    "    DireccionPais VARCHAR(20),\n",
    "    DireccionCiudad VARCHAR(20),\n",
    "    DireccionRegion VARCHAR(20),\n",
    "    DireccionCodigoPostal VARCHAR(10)) SERVER ext.crm FILE 'clientes.csv' \n",
    "    USING '{\"from\":{\"file\":{\"header\":true}}}' ''')"
   ]
  },
  {
   "cell_type": "code",
   "execution_count": null,
   "id": "a257c3ee-a03b-4890-bafc-b837f98d2e6b",
   "metadata": {},
   "outputs": [],
   "source": [
    "#Get and Display the Contents\n",
    "df=pd.read_sql(\"select top 5 * from crm.clientes\",connection)\n",
    "display(df)"
   ]
  },
  {
   "cell_type": "markdown",
   "id": "52d0aaaa-0876-49fc-a1f5-8b42e5680ac1",
   "metadata": {},
   "source": [
    "# Referenciar BBDD Externa\n",
    "\n",
    "Para referenciar una base de datos externa, primero se tiene que instalar el driver odbc/jdbc correspondiente en el servidor/VM/docker de IRIS y definir una conexión de SQLGateway como se muestra aquí."
   ]
  },
  {
   "cell_type": "markdown",
   "id": "6e9397fd-b4e5-47c9-ad1c-a18ee6cb9444",
   "metadata": {},
   "source": [
    "<img src=\"./img/sqlgatewayconnection.png\" style=\"height:300px\">"
   ]
  },
  {
   "cell_type": "markdown",
   "id": "7706169c-e62d-4424-9767-dfd02c2c51e2",
   "metadata": {},
   "source": [
    "El Foreign Server referencia la conexión de SQL Gateway"
   ]
  },
  {
   "cell_type": "code",
   "execution_count": null,
   "id": "f4125490-39e3-4dc9-bea6-7f02ac59ec51",
   "metadata": {},
   "outputs": [],
   "source": [
    "#Cleanup: drop Foreing Server and Defined Tables if already exist\n",
    "#exec_sql(\"DROP FOREIGN SERVER ext.onlinestore CASCADE\")"
   ]
  },
  {
   "cell_type": "code",
   "execution_count": null,
   "id": "c913ea87-9824-4f2f-8ee0-51aa30ee494f",
   "metadata": {},
   "outputs": [],
   "source": [
    "#Create Foreign Server\n",
    "exec_sql(\"create foreign server ext.onlinestore foreign data wrapper jdbc connection 'onlinestore'\")"
   ]
  },
  {
   "cell_type": "code",
   "execution_count": null,
   "id": "1a6614c6-812d-45ea-99b6-2ac12454d00d",
   "metadata": {},
   "outputs": [],
   "source": [
    "#Create Foreign Table\n",
    "exec_sql('''\n",
    "    CREATE FOREIGN TABLE onlinestore.orders(\n",
    "    id bigint,\n",
    "    invoice VARCHAR(20),\n",
    "    stockcode VARCHAR(20),\n",
    "    description VARCHAR(100),\n",
    "    quantity INTEGER,\n",
    "    invoicedate Date,\n",
    "    price NUMERIC,\n",
    "    customerid VARCHAR(10)\n",
    "    --,country VARCHAR(50)\n",
    "    ) server ext.onlinestore table 'public.orders'\n",
    "''')"
   ]
  },
  {
   "cell_type": "code",
   "execution_count": null,
   "id": "099efb35-ecb9-4a40-89b5-e05e2baa2419",
   "metadata": {},
   "outputs": [],
   "source": [
    "#Get and Display the Contents\n",
    "df=pd.read_sql(\"select top 5 * from onlinestore.orders\",connection)\n",
    "display(df)"
   ]
  },
  {
   "cell_type": "code",
   "execution_count": null,
   "id": "f2307643-a25e-454c-88d9-063e015f7f12",
   "metadata": {},
   "outputs": [],
   "source": []
  },
  {
   "cell_type": "markdown",
   "id": "6ddbd393-dd9d-460b-b63a-6469f43ee889",
   "metadata": {},
   "source": [
    "# Juntar los Datos\n",
    "\n",
    "Ahora podemos executar Queries SQL que hagan Joins entre las tablas de los distintos Foreign servers."
   ]
  },
  {
   "cell_type": "code",
   "execution_count": null,
   "id": "625df7c1-8512-4dfb-8d3e-71045f2f972c",
   "metadata": {},
   "outputs": [],
   "source": [
    "sql=''' select o.invoice, o.stockcode, o.description, o.customerid, \n",
    "        c.IDCliente, c.nombre, c.apellidos\n",
    "        FROM onlinestore.orders o LEFT OUTER JOIN crm.clientes c\n",
    "        on o.customerid = c.IDCliente\n",
    "        where o.customerid in ('17850','13047','12853')\n",
    "    '''\n",
    "df=pd.read_sql(sql,connection)\n",
    "display(df)"
   ]
  },
  {
   "cell_type": "code",
   "execution_count": null,
   "id": "c2ebea17-1759-47f6-9659-204a581e6cf1",
   "metadata": {},
   "outputs": [],
   "source": [
    "#Sales by Gender\n",
    "sql=''' select SUM (o.quantity) as total_quantity, c.genero as genero\n",
    "        FROM onlinestore.orders o LEFT OUTER JOIN crm.clientes c\n",
    "        on o.customerid = c.IDCliente\n",
    "        group by c.genero\n",
    "    '''\n",
    "df=pd.read_sql(sql,connection)\n",
    "df.head()"
   ]
  },
  {
   "cell_type": "code",
   "execution_count": null,
   "id": "86e60c7b-6d25-4a5b-8c21-79bab8d9e484",
   "metadata": {},
   "outputs": [],
   "source": [
    "import seaborn as sns\n",
    "import matplotlib.pyplot as plt\n",
    "\n",
    "# Set the Seaborn theme for better visuals\n",
    "sns.set_theme(style=\"whitegrid\")\n",
    "\n",
    "# Create the bar chart\n",
    "plt.figure(figsize=(8, 6))\n",
    "sns.barplot(data=df, x='genero', y='total_quantity', palette=\"viridis\")\n",
    "\n",
    "# Add labels and a title\n",
    "plt.title(\"Total Quantity by Genero\", fontsize=16)\n",
    "plt.xlabel(\"Genero\", fontsize=14)\n",
    "plt.ylabel(\"Total Quantity\", fontsize=14)\n",
    "\n",
    "# Show the plot\n",
    "plt.show()"
   ]
  },
  {
   "cell_type": "markdown",
   "id": "0c9eae51-9eab-40e6-b490-d0a5765659a9",
   "metadata": {},
   "source": [
    "# Foreign Server: Queries Passthrough\n",
    "\n",
    "Es posible enviar queries SQL a un foreign server en modo \"passthrough\", directamente con la sinytaxis SQL del motor remoto"
   ]
  },
  {
   "cell_type": "code",
   "execution_count": null,
   "id": "3f4ad32f-77ca-44d3-bf92-aa682a217dd2",
   "metadata": {},
   "outputs": [],
   "source": [
    "df=pd.read_sql(\"THROUGH foreign server ext.onlinestore select * from public.orders LIMIT 2\",connection)\n",
    "display(df)"
   ]
  },
  {
   "cell_type": "markdown",
   "id": "d2a7bfb5-8802-4d77-b315-cec9bad7da25",
   "metadata": {},
   "source": [
    "# Paradigma COLLECT\n",
    "\n",
    "En el paradigma collect, se realiza una carga de datos. El comando SQL \"LOAD DATA\" permite hace importaciones massivas de datos externos limpios, sea desde fichero o servidor externo accesible por JDBC.\n",
    "Este mecanismo usa internamente el Java Gateway."
   ]
  },
  {
   "cell_type": "markdown",
   "id": "21f6e3e8-3205-4fd8-9c91-b162552405b9",
   "metadata": {},
   "source": [
    "## Carga desde Ficheros Externos\n",
    "\n",
    "Requiere definir la tabla donde cargar los datos, y mapear todo los campos del fichero."
   ]
  },
  {
   "cell_type": "code",
   "execution_count": null,
   "id": "fe49017a-9b99-4f0f-8b9d-ef6c1d3f7b85",
   "metadata": {},
   "outputs": [],
   "source": [
    "# Prepare the target Table. The table needs to be created\n",
    "# /data/superstore/superstore.csv\n",
    "# Row ID,Order ID,Order Date,Ship Date,Ship Mode,Customer ID,Customer Name,Segment,Country,City,\n",
    "#  State,Postal Code,Region,Product ID,Category,Sub-Category,Product Name,Sales,Quantity,Discount,Profit\n",
    "\n",
    "#exec_sql('Drop table bulk.superstore')\n",
    "\n",
    "sql=''' CREATE TABLE bulk.superstore (\n",
    "    OrderID VARCHAR(30),OrderDate VARCHAR(30), \n",
    "    CustomerID VARCHAR(30),\n",
    "    Category VARCHAR(30),\n",
    "    ProductName VARCHAR(100),\n",
    "    Sales DOUBLE,\n",
    "    Quantity INTEGER)\n",
    "    '''\n",
    "exec_sql(sql)"
   ]
  },
  {
   "cell_type": "code",
   "execution_count": null,
   "id": "6b3f2587-fec7-460b-bc0e-5767795bde71",
   "metadata": {},
   "outputs": [],
   "source": [
    "sql=''' LOAD DATA FROM FILE '/data/superstore/superstore.csv'\n",
    "    COLUMNS ( \"Row ID\" VARCHAR(20),\n",
    "    \"Order ID\" VARCHAR(30) ,\"Order Date\" VARCHAR(30), \"Ship Date\" VARCHAR(30),\"Ship Mode\" VARCHAR(10),\n",
    "    \"Customer ID\" VARCHAR(30),\"Customer Name\" VARCHAR(30), Segment VARCHAR(30), Country VARCHAR(30),\n",
    "    City VARCHAR(30),\"State\" VARCHAR(30),\"Postal Code\" VARCHAR(30), Region VARCHAR(30),\"Product ID\" VARCHAR(30),\n",
    "    Category VARCHAR(30),\"Sub-Category\" VARCHAR(30),\"Product Name\" VARCHAR(100), Sales DOUBLE, Quantity INTEGER\n",
    "    )\n",
    "    INTO bulk.superstore (OrderID, CustomerID, OrderDate, Category, ProductName, Sales, Quantity)\n",
    "    VALUES(\"Order ID\",\"Customer ID\",\"Order Date\",\"Category\",\"Product Name\",Sales, Quantity)\n",
    "    USING {\"from\":{\"file\":{\"header\":true}}}\n",
    "    '''\n",
    "exec_sql(sql)\n"
   ]
  },
  {
   "cell_type": "code",
   "execution_count": null,
   "id": "d6826adb-292b-4d53-98bf-b43d8d7ed08e",
   "metadata": {},
   "outputs": [],
   "source": [
    "## Carga desde Base de datos Externos\n",
    "df=pd.read_sql('select top 5 * from bulk.superstore',connection)\n",
    "display(df)"
   ]
  },
  {
   "cell_type": "markdown",
   "id": "fce6b17c-33d1-4b61-9605-4c0f30352b07",
   "metadata": {},
   "source": [
    "## Carga desde tabla Externa"
   ]
  },
  {
   "cell_type": "code",
   "execution_count": null,
   "id": "d1dc40fd-c7ce-417a-b538-4d9c3b7a890a",
   "metadata": {},
   "outputs": [],
   "source": [
    " sql='''\n",
    "    CREATE TABLE bulk.orders(\n",
    "    id bigint,\n",
    "    invoice VARCHAR(20),\n",
    "    stockcode VARCHAR(20),\n",
    "    description VARCHAR(100),\n",
    "    quantity INTEGER,\n",
    "    invoicedate Date,\n",
    "    price NUMERIC,\n",
    "    customerid VARCHAR(10)\n",
    "    )\n",
    "    '''\n",
    "exec_sql(sql)"
   ]
  },
  {
   "cell_type": "code",
   "execution_count": null,
   "id": "22707b44-4469-4587-a61b-80e4d3d248f5",
   "metadata": {},
   "outputs": [],
   "source": [
    "sql=''' LOAD DATA FROM JDBC CONNECTION onlinestore\n",
    "        TABLE \"public\".\"orders\"\n",
    "        INTO bulk.orders(id, invoice, stockcode, description, quantity, invoicedate, price, customerid)\n",
    "        VALUES(id, invoice, stockcode, description, quantity, invoicedate, price, customerid)\n",
    "    '''\n",
    "exec_sql(sql)"
   ]
  },
  {
   "cell_type": "code",
   "execution_count": null,
   "id": "5c71b691-a02f-47e7-9ad1-5fd99d76509c",
   "metadata": {},
   "outputs": [],
   "source": [
    "## Carga desde Base de datos Externos\n",
    "df=pd.read_sql('select top 5 * from bulk.orders',connection)\n",
    "display(df)"
   ]
  },
  {
   "cell_type": "markdown",
   "id": "e1505582-8ffe-4767-bf63-fd5f0d12cb13",
   "metadata": {},
   "source": [
    "## Notas adicionales de Carga Rapida\n",
    "\n",
    "Las opciones siguientes permiten accelerar la carga massiva de datos. \n",
    "Construir los Indices al final de la carga es más eficiente:\n",
    "LOAD BULK\n",
    "LOAD %NOJOURN BULK\n"
   ]
  },
  {
   "cell_type": "markdown",
   "id": "28082a2c-3e5b-42a1-ac59-59042d26c64a",
   "metadata": {},
   "source": [
    "# Interoperabilidad: Carga con Record Mapper\n",
    "\n",
    "Desde el portal de Gestión de IRIS, se puede usar el Record Mapper de Interoperabilidad para leer ficheros CSV, y generar los mensajes de interoperabilidad correspondientes"
   ]
  },
  {
   "attachments": {},
   "cell_type": "markdown",
   "id": "799a1a9d-5202-4ff5-8129-eb34b0f0a595",
   "metadata": {},
   "source": [
    "<img src=\"./img/recordmapper.png\" style=\"height:300px\">"
   ]
  }
 ],
 "metadata": {
  "kernelspec": {
   "display_name": "Python 3 (ipykernel)",
   "language": "python",
   "name": "python3"
  },
  "language_info": {
   "codemirror_mode": {
    "name": "ipython",
    "version": 3
   },
   "file_extension": ".py",
   "mimetype": "text/x-python",
   "name": "python",
   "nbconvert_exporter": "python",
   "pygments_lexer": "ipython3",
   "version": "3.11.6"
  }
 },
 "nbformat": 4,
 "nbformat_minor": 5
}
